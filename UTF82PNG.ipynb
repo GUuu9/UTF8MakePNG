{
 "cells": [
  {
   "cell_type": "code",
   "execution_count": null,
   "metadata": {},
   "outputs": [],
   "source": [
    "#pip install Pillow"
   ]
  },
  {
   "cell_type": "markdown",
   "metadata": {},
   "source": [
    "## Create PART"
   ]
  },
  {
   "cell_type": "code",
   "execution_count": null,
   "metadata": {},
   "outputs": [],
   "source": [
    "from PIL import Image\n",
    "import os\n",
    "from random import shuffle"
   ]
  },
  {
   "cell_type": "code",
   "execution_count": null,
   "metadata": {},
   "outputs": [],
   "source": [
    "listValue = []\n",
    "hexString = ''\n",
    "disfigure = ['0','1','2','3','4','5','6','7','8','9','a','b','c','d','e','f']\n",
    "key = []\n",
    "keyString = ''\n",
    "\n",
    "\n",
    "key = disfigure\n",
    "shuffle(key) # Create Key\n",
    "for i in key:\n",
    "    keyString += i"
   ]
  },
  {
   "cell_type": "code",
   "execution_count": null,
   "metadata": {},
   "outputs": [],
   "source": [
    "# OPEN CODE FILE read Mode\n",
    "targetFile = 'aa.dart' # input File address. This can use .txt .c .cpp .dart ... etc\n",
    "f = open(targetFile, 'r', encoding='utf-8')\n",
    "lines = f.readlines()\n",
    "\n",
    "for line in lines:\n",
    "    for word in line:\n",
    "        listValue.append((word.encode('utf-8').hex()))\n",
    "\n",
    "for i in listValue:\n",
    "    if type(i) != bytes:\n",
    "        hexString += str(i)"
   ]
  },
  {
   "cell_type": "code",
   "execution_count": null,
   "metadata": {},
   "outputs": [],
   "source": [
    "def stringdisfigure(a):\n",
    "    tmpstring = ''\n",
    "    for i in a:\n",
    "        if i == '0':\n",
    "            tmpstring += key[0]\n",
    "        if i == '1':\n",
    "            tmpstring += key[1]\n",
    "        if i == '2':\n",
    "            tmpstring  += key[2]\n",
    "        if i == '3':\n",
    "            tmpstring  += key[3]\n",
    "        if i == '4':\n",
    "            tmpstring  += key[4]\n",
    "        if i == '5':\n",
    "            tmpstring  += key[5]\n",
    "        if i == '6':\n",
    "            tmpstring  += key[6]\n",
    "        if i == '7':\n",
    "            tmpstring  += key[7]\n",
    "        if i == '8':\n",
    "            tmpstring  += key[8]\n",
    "        if i == '9':\n",
    "            tmpstring  += key[9]\n",
    "        if i == 'a':\n",
    "            tmpstring  += key[10]\n",
    "        if i == 'b':\n",
    "            tmpstring  += key[11]\n",
    "        if i == 'c':\n",
    "            tmpstring  += key[12]\n",
    "        if i == 'd':\n",
    "            tmpstring  += key[13]\n",
    "        if i == 'e':\n",
    "            tmpstring  += key[14]\n",
    "        if i == 'f':\n",
    "            tmpstring  += key[15]\n",
    "\n",
    "    return tmpstring\n",
    "\n",
    "def stringdecoding(a):\n",
    "    tmpstring = ''\n",
    "    for i in a:\n",
    "        if i == key[0]:\n",
    "            tmpstring += '0'\n",
    "        if i == key[1]:\n",
    "            tmpstring += '1'\n",
    "        if i == key[2]:\n",
    "            tmpstring  += '2'\n",
    "        if i == key[3]:\n",
    "            tmpstring  += '3'\n",
    "        if i == key[4]:\n",
    "            tmpstring  += '4'\n",
    "        if i == key[5]:\n",
    "            tmpstring  += '5'\n",
    "        if i == key[6]:\n",
    "            tmpstring  += '6'\n",
    "        if i == key[7]:\n",
    "            tmpstring  += '7'\n",
    "        if i == key[8]:\n",
    "            tmpstring  += '8'\n",
    "        if i == key[9]:\n",
    "            tmpstring  += '9'\n",
    "        if i == key[10]:\n",
    "            tmpstring  += 'a'\n",
    "        if i == key[11]:\n",
    "            tmpstring  += 'b'\n",
    "        if i == key[12]:\n",
    "            tmpstring  += 'c'\n",
    "        if i == key[13]:\n",
    "            tmpstring  += 'd'\n",
    "        if i == key[14]:\n",
    "            tmpstring  += 'e'\n",
    "        if i == key[15]:\n",
    "            tmpstring  += 'f'\n",
    "\n",
    "    return tmpstring"
   ]
  },
  {
   "cell_type": "code",
   "execution_count": null,
   "metadata": {},
   "outputs": [],
   "source": [
    "# Show Hex String\n",
    "print('File data Change to HEX Value => ', hexString)\n",
    "# Show Hex String to utf-8\n",
    "print('\\nResult')\n",
    "print(bytes.fromhex(hexString).decode('utf-8'))"
   ]
  },
  {
   "cell_type": "code",
   "execution_count": null,
   "metadata": {},
   "outputs": [],
   "source": [
    "if len(hexString) % 6 != 0:\n",
    "    if len(hexString) % 6 == 2:\n",
    "        hexString += '2020'\n",
    "    if len(hexString) % 6 == 4:\n",
    "        hexString += '20'\n",
    "\n",
    "sizeValue = len(hexString) / 6\n",
    "print('Make Size RGB        : ',sizeValue)\n",
    "\n",
    "while sizeValue ** 0.5 % 1 != 0:\n",
    "    sizeValue += 1\n",
    "    hexString += '202020'\n",
    "\n",
    "\n",
    "print('Hex String Size      : ',len(hexString))\n",
    "print('Pixel SizeValue      : ',sizeValue)\n",
    "sizeValue = int(sizeValue ** 0.5)\n",
    "print('root Value           : ',sizeValue)\n",
    "\n",
    "# Show Hex String\n",
    "print('Raw HEX Value       => ',hexString)\n",
    "hexString = stringdisfigure(hexString)\n",
    "print('disfigure HEX Value => ',hexString)\n"
   ]
  },
  {
   "cell_type": "code",
   "execution_count": null,
   "metadata": {},
   "outputs": [],
   "source": [
    "# SAVE Key value file\n",
    "with open(os.getcwd() + '/key.txt', 'a') as keyfile:\n",
    "    keyfile.write(keyString + ':' + targetFile + '\\n')"
   ]
  },
  {
   "cell_type": "code",
   "execution_count": null,
   "metadata": {},
   "outputs": [],
   "source": [
    "filepath = os.getcwd() + '/' + targetFile + '.png'\n",
    "\n",
    "img = Image.frombytes('RGB', (sizeValue, sizeValue), bytes.fromhex(hexString))\n",
    "img.save(filepath)"
   ]
  },
  {
   "cell_type": "code",
   "execution_count": null,
   "metadata": {},
   "outputs": [],
   "source": [
    "f.close()"
   ]
  },
  {
   "cell_type": "markdown",
   "metadata": {},
   "source": [
    "## DECODING PART"
   ]
  },
  {
   "cell_type": "code",
   "execution_count": null,
   "metadata": {},
   "outputs": [],
   "source": [
    "def rgb2hex(r, g, b):\n",
    "    return '{:02x}{:02x}{:02x}'.format(r, g, b)\n",
    "\n",
    "img = Image.open(filepath)\n",
    "\n",
    "decodingData = ''\n",
    "\n",
    "if img.mode in ('RGB', 'LA') or (img.mode == 'P' and 'transparency' in img.info):   \n",
    "    pixels = list(img.convert('RGB').getdata())\n",
    "\n",
    "    for r, g, b in pixels: # just ignore the alpha channel\n",
    "       decodingData += rgb2hex(r, g, b)\n"
   ]
  },
  {
   "cell_type": "code",
   "execution_count": null,
   "metadata": {},
   "outputs": [],
   "source": [
    "# Use Continue\n",
    "# input Key Value\n",
    "if hexString == decodingData:\n",
    "    print('true')\n",
    "\n",
    "    f = open(os.getcwd() + '/key.txt', 'r', encoding='utf-8')\n",
    "    keycodes = f.readlines()\n",
    "    for keycode in keycodes:\n",
    "        if keycode[17:-1] == targetFile:\n",
    "            start = 0\n",
    "            for data in keycode[:15]:\n",
    "                key[start] = data\n",
    "                start +=1\n",
    "    f.close()\n",
    "\n",
    "else:\n",
    "    print('false')\n"
   ]
  },
  {
   "cell_type": "code",
   "execution_count": null,
   "metadata": {},
   "outputs": [],
   "source": [
    "# USE ALONE\n",
    "targetFile = 'aa.dart'\n",
    "\n",
    "f = open(os.getcwd() + '/key.txt', 'r', encoding='utf-8')\n",
    "keycodes = f.readlines()\n",
    "for keycode in keycodes:\n",
    "    if keycode[17:-1] == targetFile:\n",
    "        start = 0\n",
    "        for data in keycode[:15]:\n",
    "            key[start] = data\n",
    "            start +=1\n",
    "\n",
    "f.close()"
   ]
  },
  {
   "cell_type": "code",
   "execution_count": null,
   "metadata": {},
   "outputs": [],
   "source": [
    "# Show Hex String\n",
    "print('disfigure HEX Value => ',decodingData)\n",
    "decodingData = stringdecoding(decodingData)\n",
    "print('Raw HEX Value       => ',decodingData)\n",
    "\n",
    "# Show decoding Result\n",
    "print('\\nResult')\n",
    "print(bytes.fromhex(decodingData).decode('utf-8'))"
   ]
  },
  {
   "cell_type": "markdown",
   "metadata": {},
   "source": [
    "RGB reference https://stackoverflow.com/questions/19914509/python-pil-pixel-rgb-color-to-hex  \n",
    "PIL reference https://pillow.readthedocs.io/en/stable/handbook/concepts.html#concept-modes   \n",
    "RGB Color  https://namu.wiki/w/헥스%20코드"
   ]
  },
  {
   "cell_type": "markdown",
   "metadata": {},
   "source": []
  }
 ],
 "metadata": {
  "kernelspec": {
   "display_name": "Python 3",
   "language": "python",
   "name": "python3"
  },
  "language_info": {
   "codemirror_mode": {
    "name": "ipython",
    "version": 3
   },
   "file_extension": ".py",
   "mimetype": "text/x-python",
   "name": "python",
   "nbconvert_exporter": "python",
   "pygments_lexer": "ipython3",
   "version": "3.11.9"
  }
 },
 "nbformat": 4,
 "nbformat_minor": 2
}
